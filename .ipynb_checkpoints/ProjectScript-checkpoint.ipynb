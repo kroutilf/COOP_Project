{
 "cells": [
  {
   "cell_type": "code",
   "execution_count": 1,
   "metadata": {},
   "outputs": [
    {
     "name": "stdout",
     "output_type": "stream",
     "text": [
      "Collecting folium\n",
      "  Downloading folium-0.11.0-py2.py3-none-any.whl (93 kB)\n",
      "Requirement already satisfied: jinja2>=2.9 in c:\\users\\admin\\anaconda3\\lib\\site-packages (from folium) (2.11.1)\n",
      "Requirement already satisfied: requests in c:\\users\\admin\\anaconda3\\lib\\site-packages (from folium) (2.22.0)\n",
      "Collecting branca>=0.3.0\n",
      "  Downloading branca-0.4.1-py3-none-any.whl (24 kB)\n",
      "Requirement already satisfied: numpy in c:\\users\\admin\\anaconda3\\lib\\site-packages (from folium) (1.18.1)\n",
      "Requirement already satisfied: MarkupSafe>=0.23 in c:\\users\\admin\\anaconda3\\lib\\site-packages (from jinja2>=2.9->folium) (1.1.1)\n",
      "Requirement already satisfied: idna<2.9,>=2.5 in c:\\users\\admin\\anaconda3\\lib\\site-packages (from requests->folium) (2.8)\n",
      "Requirement already satisfied: urllib3!=1.25.0,!=1.25.1,<1.26,>=1.21.1 in c:\\users\\admin\\anaconda3\\lib\\site-packages (from requests->folium) (1.25.8)\n",
      "Requirement already satisfied: certifi>=2017.4.17 in c:\\users\\admin\\anaconda3\\lib\\site-packages (from requests->folium) (2019.11.28)\n",
      "Requirement already satisfied: chardet<3.1.0,>=3.0.2 in c:\\users\\admin\\anaconda3\\lib\\site-packages (from requests->folium) (3.0.4)\n",
      "Installing collected packages: branca, folium\n",
      "Successfully installed branca-0.4.1 folium-0.11.0\n"
     ]
    }
   ],
   "source": [
    "import requests\n",
    "import json\n",
    "import urllib.parse\n",
    "from bs4 import BeautifulSoup\n",
    "from time import sleep\n",
    "from tqdm import tqdm\n",
    "import re\n",
    "import pandas as pd\n",
    "import sys\n",
    "!{sys.executable} -m pip install folium\n",
    "import os \n",
    "import folium"
   ]
  },
  {
   "cell_type": "code",
   "execution_count": 2,
   "metadata": {},
   "outputs": [],
   "source": [
    "def getSoup(link):\n",
    "    sleep(0.1) #to be kind to the website\n",
    "    r = requests.get(link)\n",
    "    r.encoding = 'UTF-8'\n",
    "    return BeautifulSoup(r.text,'lxml')\n",
    "\n",
    "soup = getSoup(\"https://www.skupina.coop/cooperative/list/\")"
   ]
  },
  {
   "cell_type": "code",
   "execution_count": 3,
   "metadata": {},
   "outputs": [
    {
     "data": {
      "text/plain": [
       "['https://www.skupina.coop/jednota-benesov-druzstvo',\n",
       " 'https://www.skupina.coop/coop-horovice-druzstvo',\n",
       " 'https://www.skupina.coop/druzstvo-jednota-kladno',\n",
       " 'https://www.skupina.coop/coop-mnichovo-hradiste-druzstvo',\n",
       " 'https://www.skupina.coop/jednota-spotrebni-druzstvo-v-nymburce',\n",
       " 'https://www.skupina.coop/coop-praha-zapad',\n",
       " 'https://www.skupina.coop/coop-pribram-druzstvo',\n",
       " 'https://www.skupina.coop/jednota-spotrebni-druzstvo-v-rakovniku',\n",
       " 'https://www.skupina.coop/coop-druzstvo-plasy',\n",
       " 'https://www.skupina.coop/zapadoceske-konzumni-druzstvo-plzen',\n",
       " 'https://www.skupina.coop/jednota-konzumni-druzstvo-rokycany',\n",
       " 'https://www.skupina.coop/zapadoceske-konzumni-druzstvo-susice',\n",
       " 'https://www.skupina.coop/jednota-spotrebni-druzstvo-v-tachove',\n",
       " 'https://www.skupina.coop/coop-jednota-touzim-spotrebni-druzstvo',\n",
       " 'https://www.skupina.coop/spotrebni-druzstvo-jednota-kadan',\n",
       " 'https://www.skupina.coop/druzstvo-jednota-most',\n",
       " 'https://www.skupina.coop/jednota-spotrebni-druzstvo-v-podboranech',\n",
       " 'https://www.skupina.coop/jednota-spotrebni-druzstvo-teplice',\n",
       " 'https://www.skupina.coop/jednota-usti-nad-labem-spotrebni-druzstvo',\n",
       " 'https://www.skupina.coop/jednota-spotrebni-druzstvo-v-jilemnici',\n",
       " 'https://www.skupina.coop/coop-dvur-kralove-n-l-druzstvo',\n",
       " 'https://www.skupina.coop/jednota-spotrebni-druzstvo-nova-paka',\n",
       " 'https://www.skupina.coop/jednota-spotrebni-druzstvo-hlinsko',\n",
       " 'https://www.skupina.coop/jednota-spotrebni-druzstvo-v-pardubicich',\n",
       " 'https://www.skupina.coop/konzum-obchodni-druzstvo-v-usti-nad-orlici',\n",
       " 'https://www.skupina.coop/coop-druzstvo-hb',\n",
       " 'https://www.skupina.coop/jednota-spotrebni-druzstvo-v-kamenici-nad-lipou',\n",
       " 'https://www.skupina.coop/coop-druzstvo-velke-mezirici',\n",
       " 'https://www.skupina.coop/jednota-spotrebni-druzstvo-v-boskovicich',\n",
       " 'https://www.skupina.coop/jednota-spotrebni-druzstvo-v-hodonine',\n",
       " 'https://www.skupina.coop/jednota-spotrebni-druzstvo-moravsky-krumlov',\n",
       " 'https://www.skupina.coop/jednota-spotrebni-druzstvo-v-mikulove',\n",
       " 'https://www.skupina.coop/jednota-spotrebni-druzstvo-v-uherskem-ostrohu',\n",
       " 'https://www.skupina.coop/jednota-spotrebni-druzstvo-ve-vsetine',\n",
       " 'https://www.skupina.coop/jednota-spotrebni-druzstvo-ve-zline',\n",
       " 'https://www.skupina.coop/coop-beskydy-spotrebni-druzstvo',\n",
       " 'https://www.skupina.coop/tempo-obchodni-druzstvo',\n",
       " 'https://www.skupina.coop/budoucnost-spotrebni-druzstvo-v-ostrave',\n",
       " 'https://www.skupina.coop/jednota-spotrebni-druzstvo-zabreh',\n",
       " 'https://www.skupina.coop/jednota-spotrebni-druzstvo-ceske-budejovice',\n",
       " 'https://www.skupina.coop/jednota-spotrebni-druzstvo-v-jindrichove-hradci',\n",
       " 'https://www.skupina.coop/jednota-druzstvo-spotrebitelu-v-kaplici',\n",
       " 'https://www.skupina.coop/jednota-spotrebni-druzstvo-v-milevsku-okres-pisek',\n",
       " 'https://www.skupina.coop/jednota-obchodni-druzstvo-tabor',\n",
       " 'https://www.skupina.coop/jednota-spotrebni-druzstvo-ve-vimperku',\n",
       " 'https://www.skupina.coop/jednota-spotrebni-druzstvo-ve-volyni']"
      ]
     },
     "execution_count": 3,
     "metadata": {},
     "output_type": "execute_result"
    }
   ],
   "source": [
    "def getAllLinks(link):\n",
    "    soup = getSoup(link)\n",
    "    h2s = soup.findAll('h2', {'class':'cooperative'})\n",
    "    return ['https://www.skupina.coop' + h2.find('a')['href'] for h2 in h2s]\n",
    "\n",
    "links = getAllLinks('https://www.skupina.coop/cooperative/list/')\n",
    "links"
   ]
  },
  {
   "cell_type": "code",
   "execution_count": 4,
   "metadata": {},
   "outputs": [
    {
     "data": {
      "text/plain": [
       "2502"
      ]
     },
     "execution_count": 4,
     "metadata": {},
     "output_type": "execute_result"
    }
   ],
   "source": [
    "def getAllSublinks(link):\n",
    "    list = []\n",
    "    links = getAllLinks(link)\n",
    "    for link in links:\n",
    "        sleep(0.1)\n",
    "        soup = getSoup(link)\n",
    "        aas = soup.findAll('a', text = re.compile(\"detail\"))      \n",
    "        list.extend(['https://www.skupina.coop' + a['href'] for a in aas])\n",
    "    return list\n",
    "\n",
    "sublinks = getAllSublinks('https://www.skupina.coop/cooperative/list/')\n",
    "len(sublinks)"
   ]
  },
  {
   "cell_type": "code",
   "execution_count": 5,
   "metadata": {},
   "outputs": [
    {
     "data": {
      "text/plain": [
       "'COOP Vlašimská 7, Louňovice pod Blaníkem'"
      ]
     },
     "execution_count": 5,
     "metadata": {},
     "output_type": "execute_result"
    }
   ],
   "source": [
    "def parse_name(soup):\n",
    "    return \"COOP \" + soup.find('h1').find(\"span\").text\n",
    "\n",
    "parse_name(getSoup(\"https://www.skupina.coop/coop-vlasimska-7-lounovice-pod-blanikem-254\"))"
   ]
  },
  {
   "cell_type": "code",
   "execution_count": 6,
   "metadata": {},
   "outputs": [
    {
     "data": {
      "text/plain": [
       "'Vlašimská 7, 257 06 Louňovice pod Blaníkem, Benešov'"
      ]
     },
     "execution_count": 6,
     "metadata": {},
     "output_type": "execute_result"
    }
   ],
   "source": [
    "def parse_address(soup):\n",
    "    address = soup.find('h2', text = re.compile(\"ADRESA\")).next_sibling.next_sibling.get_text(separator = \", \").replace(\"\\n\",\"\").replace(\"\\t\",\"\")\n",
    "    return address[:(len(address)-2)]\n",
    "    \n",
    "parse_address(getSoup(\"https://www.skupina.coop/coop-vlasimska-7-lounovice-pod-blanikem-254\"))"
   ]
  },
  {
   "cell_type": "code",
   "execution_count": 7,
   "metadata": {},
   "outputs": [
    {
     "data": {
      "text/plain": [
       "'JEDNOTA Benešov, družstvo'"
      ]
     },
     "execution_count": 7,
     "metadata": {},
     "output_type": "execute_result"
    }
   ],
   "source": [
    "def parse_druzstvo(soup):\n",
    "    return soup.find('h2', text = re.compile(\"Družstvo\")).next_sibling.next_sibling.text.strip()\n",
    "    \n",
    "parse_druzstvo(getSoup(\"https://www.skupina.coop/coop-vlasimska-7-lounovice-pod-blanikem-254\"))"
   ]
  },
  {
   "cell_type": "code",
   "execution_count": 8,
   "metadata": {},
   "outputs": [
    {
     "data": {
      "text/plain": [
       "'https://www.skupina.coop/jednota-benesov-druzstvo'"
      ]
     },
     "execution_count": 8,
     "metadata": {},
     "output_type": "execute_result"
    }
   ],
   "source": [
    "def parse_druzstvo_link(soup):\n",
    "    return 'https://www.skupina.coop' + soup.find('h2', text = re.compile(\"Družstvo\")).next_sibling.next_sibling.find(\"a\")[\"href\"]\n",
    "    \n",
    "parse_druzstvo_link(getSoup(\"https://www.skupina.coop/coop-vlasimska-7-lounovice-pod-blanikem-254\"))"
   ]
  },
  {
   "cell_type": "code",
   "execution_count": 9,
   "metadata": {},
   "outputs": [
    {
     "data": {
      "text/plain": [
       "'317 852 650'"
      ]
     },
     "execution_count": 9,
     "metadata": {},
     "output_type": "execute_result"
    }
   ],
   "source": [
    "def parse_phone(soup):\n",
    "    try:\n",
    "        return soup.find('div',{'class':'kontakty'}).find('li',{'class':'telefon'}).text.strip()\n",
    "    except:\n",
    "        return \"-\"\n",
    "\n",
    "parse_phone(getSoup(\"https://www.skupina.coop/coop-vlasimska-7-lounovice-pod-blanikem-254\"))"
   ]
  },
  {
   "cell_type": "code",
   "execution_count": 10,
   "metadata": {},
   "outputs": [
    {
     "data": {
      "text/plain": [
       "'www.jednotaostroh.cz'"
      ]
     },
     "execution_count": 10,
     "metadata": {},
     "output_type": "execute_result"
    }
   ],
   "source": [
    "def parse_link(soup):\n",
    "    try:\n",
    "        return soup.find('div',{'class':'kontakty'}).find('li',{'class':'link'}).text.strip()\n",
    "    except:\n",
    "        return \"-\"\n",
    "\n",
    "\n",
    "#parse_link(getSoup(\"https://www.skupina.coop/coop-vlasimska-7-lounovice-pod-blanikem-254\"))\n",
    "parse_link(getSoup(\"https://www.skupina.coop/coop-sobechleby-129-sobechleby-617\"))"
   ]
  },
  {
   "cell_type": "code",
   "execution_count": 11,
   "metadata": {},
   "outputs": [
    {
     "data": {
      "text/plain": [
       "'-'"
      ]
     },
     "execution_count": 11,
     "metadata": {},
     "output_type": "execute_result"
    }
   ],
   "source": [
    "def parse_mail(soup):\n",
    "    try:\n",
    "        return soup.find('div',{'class':'kontakty'}).find('li',{'class':'mail'}).text.strip()\n",
    "    except:\n",
    "        return \"-\"\n",
    "\n",
    "parse_mail(getSoup(parse_druzstvo_link(getSoup(\"https://www.skupina.coop/coop-vlasimska-7-lounovice-pod-blanikem-254\"))))"
   ]
  },
  {
   "cell_type": "code",
   "execution_count": 13,
   "metadata": {},
   "outputs": [],
   "source": [
    "def parse_coop_shops(link,pause=.5):\n",
    "\n",
    "    sleep(pause)\n",
    "\n",
    "    soup = getSoup(link)\n",
    "    soup_dr = getSoup(parse_druzstvo_link(getSoup(link)))\n",
    "    gps = get_GPS(soup)\n",
    "\n",
    "    return pd.Series({\n",
    "        'name':parse_name(soup),\n",
    "        'address':parse_address(soup),\n",
    "        'phone':parse_phone(soup),\n",
    "        'mail':parse_mail(soup),\n",
    "        'webpage':parse_link(soup),\n",
    "        'druzstvo':parse_druzstvo(soup),\n",
    "       # 'address_dr':parse_address(soup_dr),\n",
    "        'phone_dr':parse_phone(soup_dr),\n",
    "        'mail_dr':parse_mail(soup_dr),\n",
    "        'webpage_dr':parse_link(soup_dr),\n",
    "        'lat':gps[0],\n",
    "        'lng':gps[1]\n",
    "    })\n",
    "\n",
    "#parse_coop_shops(\"https://www.skupina.coop/coop-vlasimska-7-lounovice-pod-blanikem-254\")"
   ]
  },
  {
   "cell_type": "code",
   "execution_count": 22,
   "metadata": {},
   "outputs": [
    {
     "name": "stdout",
     "output_type": "stream",
     "text": [
      "                                       name  \\\n",
      "0  COOP Vlašimská 7, Louňovice pod Blaníkem   \n",
      "1                   COOP Husova 471, Votice   \n",
      "\n",
      "                                             address        phone mail  \\\n",
      "0  Vlašimská 7, 257 06 Louňovice pod Blaníkem, Be...  317 852 650    -   \n",
      "1                 Husova 471, 259 01 Votice, Benešov  317 812 530    -   \n",
      "\n",
      "  webpage                   druzstvo     phone_dr mail_dr webpage_dr  \\\n",
      "0       -  JEDNOTA Benešov, družstvo  317 719 111       -          -   \n",
      "1       -  JEDNOTA Benešov, družstvo  317 719 111       -          -   \n",
      "\n",
      "         lat        lng  \n",
      "0  49.638473  14.847524  \n",
      "1  49.638246  14.636691  \n"
     ]
    }
   ],
   "source": [
    "def get_all_shops(link):\n",
    "    '''\n",
    "    Because of API requests limitation, do not use for all sublinks.\n",
    "    '''\n",
    "    links = getAllSublinks(link)[:2]\n",
    "\n",
    "    return pd.DataFrame([parse_coop_shops(link) for link in links])\n",
    "\n",
    "shops = get_all_shops('https://www.skupina.coop/cooperative/list/')\n",
    "shops"
   ]
  },
  {
   "cell_type": "code",
   "execution_count": 21,
   "metadata": {},
   "outputs": [],
   "source": [
    "def get_GPS(soup):\n",
    "    '''\n",
    "    Only 10 000 requests are free with this API code. Use wisely.\n",
    "    '''\n",
    "    key = \"U4Bdq1mMc6cN6d6RAGSJpVA0GdKGVIHk\"\n",
    "    adr = urllib.parse.quote_plus(parse_address(soup))\n",
    "    r = requests.get(\"https://www.mapquestapi.com/geocoding/v1/address?key={}&inFormat=kvp&outFormat=json&location={}&thumbMaps=false\".format(key,adr))\n",
    "    d = r.json()\n",
    "    return [d[\"results\"][0][\"locations\"][0][\"latLng\"][\"lat\"],d[\"results\"][0][\"locations\"][0][\"latLng\"][\"lng\"]]"
   ]
  },
  {
   "cell_type": "code",
   "execution_count": null,
   "metadata": {},
   "outputs": [],
   "source": [
    "def plotMap (df):\n",
    "    Mlat = (df[\"lat\"].max()-df[\"lat\"].min())/2+df[\"lat\"].min()\n",
    "    Mlng = (df[\"lng\"].max()-df[\"lng\"].min())/2+df[\"lng\"].min()\n",
    "    m = folium.Map(location = [Mlat,Mlng])\n",
    "    for k in df.index:\n",
    "        html = '''<meta charset=\"UTF-8\">\n",
    "                <b>{}</b><br>\n",
    "                Phone: {}<br>\n",
    "                Mail: {}'''.format(df[\"name\"][k],df[\"phone\"][k],df[\"mail\"][k])\n",
    "        iframe = folium.IFrame(html,width=250,height=88)\n",
    "        folium.Marker(\n",
    "        [df[\"lat\"][k], df[\"lng\"][k]],\n",
    "        popup = folium.Popup(iframe,max_width=250),\n",
    "        tooltip = \"Click!\",\n",
    "        ).add_to(m)   \n",
    "    return m"
   ]
  },
  {
   "cell_type": "code",
   "execution_count": null,
   "metadata": {},
   "outputs": [],
   "source": [
    "plotMap(shops)"
   ]
  },
  {
   "cell_type": "code",
   "execution_count": 37,
   "metadata": {},
   "outputs": [
    {
     "data": {
      "text/plain": [
       "22.1658695"
      ]
     },
     "execution_count": 37,
     "metadata": {},
     "output_type": "execute_result"
    }
   ],
   "source": [
    "(shops[\"lng\"].max()-shops[\"lng\"].min()/2)+shops[\"lng\"].min()\n"
   ]
  },
  {
   "cell_type": "code",
   "execution_count": 61,
   "metadata": {},
   "outputs": [
    {
     "data": {
      "text/plain": [
       "49.638473"
      ]
     },
     "execution_count": 61,
     "metadata": {},
     "output_type": "execute_result"
    }
   ],
   "source": [
    "shops[\"lat\"].max()"
   ]
  },
  {
   "cell_type": "code",
   "execution_count": 79,
   "metadata": {},
   "outputs": [
    {
     "name": "stdout",
     "output_type": "stream",
     "text": [
      "cp1250\n"
     ]
    }
   ],
   "source": [
    "print(sys.stdin.encoding)"
   ]
  },
  {
   "cell_type": "code",
   "execution_count": 23,
   "metadata": {},
   "outputs": [
    {
     "data": {
      "text/html": [
       "<div>\n",
       "<style scoped>\n",
       "    .dataframe tbody tr th:only-of-type {\n",
       "        vertical-align: middle;\n",
       "    }\n",
       "\n",
       "    .dataframe tbody tr th {\n",
       "        vertical-align: top;\n",
       "    }\n",
       "\n",
       "    .dataframe thead th {\n",
       "        text-align: right;\n",
       "    }\n",
       "</style>\n",
       "<table border=\"1\" class=\"dataframe\">\n",
       "  <thead>\n",
       "    <tr style=\"text-align: right;\">\n",
       "      <th></th>\n",
       "      <th>name</th>\n",
       "      <th>address</th>\n",
       "      <th>phone</th>\n",
       "      <th>mail</th>\n",
       "      <th>webpage</th>\n",
       "      <th>druzstvo</th>\n",
       "      <th>phone_dr</th>\n",
       "      <th>mail_dr</th>\n",
       "      <th>webpage_dr</th>\n",
       "      <th>lat</th>\n",
       "      <th>lng</th>\n",
       "    </tr>\n",
       "  </thead>\n",
       "  <tbody>\n",
       "    <tr>\n",
       "      <th>0</th>\n",
       "      <td>COOP Vlašimská 7, Louňovice pod Blaníkem</td>\n",
       "      <td>Vlašimská 7, 257 06 Louňovice pod Blaníkem, Be...</td>\n",
       "      <td>317 852 650</td>\n",
       "      <td>-</td>\n",
       "      <td>-</td>\n",
       "      <td>JEDNOTA Benešov, družstvo</td>\n",
       "      <td>317 719 111</td>\n",
       "      <td>-</td>\n",
       "      <td>-</td>\n",
       "      <td>49.638473</td>\n",
       "      <td>14.847524</td>\n",
       "    </tr>\n",
       "    <tr>\n",
       "      <th>1</th>\n",
       "      <td>COOP Husova 471, Votice</td>\n",
       "      <td>Husova 471, 259 01 Votice, Benešov</td>\n",
       "      <td>317 812 530</td>\n",
       "      <td>-</td>\n",
       "      <td>-</td>\n",
       "      <td>JEDNOTA Benešov, družstvo</td>\n",
       "      <td>317 719 111</td>\n",
       "      <td>-</td>\n",
       "      <td>-</td>\n",
       "      <td>49.638246</td>\n",
       "      <td>14.636691</td>\n",
       "    </tr>\n",
       "  </tbody>\n",
       "</table>\n",
       "</div>"
      ],
      "text/plain": [
       "                                       name  \\\n",
       "0  COOP Vlašimská 7, Louňovice pod Blaníkem   \n",
       "1                   COOP Husova 471, Votice   \n",
       "\n",
       "                                             address        phone mail  \\\n",
       "0  Vlašimská 7, 257 06 Louňovice pod Blaníkem, Be...  317 852 650    -   \n",
       "1                 Husova 471, 259 01 Votice, Benešov  317 812 530    -   \n",
       "\n",
       "  webpage                   druzstvo     phone_dr mail_dr webpage_dr  \\\n",
       "0       -  JEDNOTA Benešov, družstvo  317 719 111       -          -   \n",
       "1       -  JEDNOTA Benešov, družstvo  317 719 111       -          -   \n",
       "\n",
       "         lat        lng  \n",
       "0  49.638473  14.847524  \n",
       "1  49.638246  14.636691  "
      ]
     },
     "execution_count": 23,
     "metadata": {},
     "output_type": "execute_result"
    }
   ],
   "source": []
  },
  {
   "cell_type": "code",
   "execution_count": null,
   "metadata": {},
   "outputs": [],
   "source": []
  }
 ],
 "metadata": {
  "kernelspec": {
   "display_name": "Python 3",
   "language": "python",
   "name": "python3"
  },
  "language_info": {
   "codemirror_mode": {
    "name": "ipython",
    "version": 3
   },
   "file_extension": ".py",
   "mimetype": "text/x-python",
   "name": "python",
   "nbconvert_exporter": "python",
   "pygments_lexer": "ipython3",
   "version": "3.7.6"
  }
 },
 "nbformat": 4,
 "nbformat_minor": 4
}
