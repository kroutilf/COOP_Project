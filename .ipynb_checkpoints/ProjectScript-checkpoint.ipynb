{
 "cells": [
  {
   "cell_type": "code",
   "execution_count": 1,
   "metadata": {},
   "outputs": [
    {
     "name": "stdout",
     "output_type": "stream",
     "text": [
      "Collecting folium\n",
      "  Downloading folium-0.11.0-py2.py3-none-any.whl (93 kB)\n",
      "Requirement already satisfied: jinja2>=2.9 in c:\\users\\admin\\anaconda3\\lib\\site-packages (from folium) (2.11.1)\n",
      "Requirement already satisfied: requests in c:\\users\\admin\\anaconda3\\lib\\site-packages (from folium) (2.22.0)\n",
      "Collecting branca>=0.3.0\n",
      "  Downloading branca-0.4.1-py3-none-any.whl (24 kB)\n",
      "Requirement already satisfied: numpy in c:\\users\\admin\\anaconda3\\lib\\site-packages (from folium) (1.18.1)\n",
      "Requirement already satisfied: MarkupSafe>=0.23 in c:\\users\\admin\\anaconda3\\lib\\site-packages (from jinja2>=2.9->folium) (1.1.1)\n",
      "Requirement already satisfied: idna<2.9,>=2.5 in c:\\users\\admin\\anaconda3\\lib\\site-packages (from requests->folium) (2.8)\n",
      "Requirement already satisfied: urllib3!=1.25.0,!=1.25.1,<1.26,>=1.21.1 in c:\\users\\admin\\anaconda3\\lib\\site-packages (from requests->folium) (1.25.8)\n",
      "Requirement already satisfied: certifi>=2017.4.17 in c:\\users\\admin\\anaconda3\\lib\\site-packages (from requests->folium) (2019.11.28)\n",
      "Requirement already satisfied: chardet<3.1.0,>=3.0.2 in c:\\users\\admin\\anaconda3\\lib\\site-packages (from requests->folium) (3.0.4)\n",
      "Installing collected packages: branca, folium\n",
      "Successfully installed branca-0.4.1 folium-0.11.0\n"
     ]
    }
   ],
   "source": [
    "import requests\n",
    "import json\n",
    "import urllib.parse\n",
    "from bs4 import BeautifulSoup\n",
    "from time import sleep\n",
    "from tqdm import tqdm\n",
    "import re\n",
    "import pandas as pd\n",
    "import sys\n",
    "!{sys.executable} -m pip install folium\n",
    "import os \n",
    "import folium"
   ]
  },
  {
   "cell_type": "code",
   "execution_count": 2,
   "metadata": {},
   "outputs": [],
   "source": [
    "def getSoup(link):\n",
    "    sleep(0.1) #to be kind to the website\n",
    "    r = requests.get(link)\n",
    "    r.encoding = 'UTF-8'\n",
    "    return BeautifulSoup(r.text,'lxml')\n",
    "\n",
    "soup = getSoup(\"https://www.skupina.coop/cooperative/list/\")"
   ]
  },
  {
   "cell_type": "code",
   "execution_count": 3,
   "metadata": {},
   "outputs": [
    {
     "data": {
      "text/plain": [
       "['https://www.skupina.coop/jednota-benesov-druzstvo',\n",
       " 'https://www.skupina.coop/coop-horovice-druzstvo',\n",
       " 'https://www.skupina.coop/druzstvo-jednota-kladno',\n",
       " 'https://www.skupina.coop/coop-mnichovo-hradiste-druzstvo',\n",
       " 'https://www.skupina.coop/jednota-spotrebni-druzstvo-v-nymburce',\n",
       " 'https://www.skupina.coop/coop-praha-zapad',\n",
       " 'https://www.skupina.coop/coop-pribram-druzstvo',\n",
       " 'https://www.skupina.coop/jednota-spotrebni-druzstvo-v-rakovniku',\n",
       " 'https://www.skupina.coop/coop-druzstvo-plasy',\n",
       " 'https://www.skupina.coop/zapadoceske-konzumni-druzstvo-plzen',\n",
       " 'https://www.skupina.coop/jednota-konzumni-druzstvo-rokycany',\n",
       " 'https://www.skupina.coop/zapadoceske-konzumni-druzstvo-susice',\n",
       " 'https://www.skupina.coop/jednota-spotrebni-druzstvo-v-tachove',\n",
       " 'https://www.skupina.coop/coop-jednota-touzim-spotrebni-druzstvo',\n",
       " 'https://www.skupina.coop/spotrebni-druzstvo-jednota-kadan',\n",
       " 'https://www.skupina.coop/druzstvo-jednota-most',\n",
       " 'https://www.skupina.coop/jednota-spotrebni-druzstvo-v-podboranech',\n",
       " 'https://www.skupina.coop/jednota-spotrebni-druzstvo-teplice',\n",
       " 'https://www.skupina.coop/jednota-usti-nad-labem-spotrebni-druzstvo',\n",
       " 'https://www.skupina.coop/jednota-spotrebni-druzstvo-v-jilemnici',\n",
       " 'https://www.skupina.coop/coop-dvur-kralove-n-l-druzstvo',\n",
       " 'https://www.skupina.coop/jednota-spotrebni-druzstvo-nova-paka',\n",
       " 'https://www.skupina.coop/jednota-spotrebni-druzstvo-hlinsko',\n",
       " 'https://www.skupina.coop/jednota-spotrebni-druzstvo-v-pardubicich',\n",
       " 'https://www.skupina.coop/konzum-obchodni-druzstvo-v-usti-nad-orlici',\n",
       " 'https://www.skupina.coop/coop-druzstvo-hb',\n",
       " 'https://www.skupina.coop/jednota-spotrebni-druzstvo-v-kamenici-nad-lipou',\n",
       " 'https://www.skupina.coop/coop-druzstvo-velke-mezirici',\n",
       " 'https://www.skupina.coop/jednota-spotrebni-druzstvo-v-boskovicich',\n",
       " 'https://www.skupina.coop/jednota-spotrebni-druzstvo-v-hodonine',\n",
       " 'https://www.skupina.coop/jednota-spotrebni-druzstvo-moravsky-krumlov',\n",
       " 'https://www.skupina.coop/jednota-spotrebni-druzstvo-v-mikulove',\n",
       " 'https://www.skupina.coop/jednota-spotrebni-druzstvo-v-uherskem-ostrohu',\n",
       " 'https://www.skupina.coop/jednota-spotrebni-druzstvo-ve-vsetine',\n",
       " 'https://www.skupina.coop/jednota-spotrebni-druzstvo-ve-zline',\n",
       " 'https://www.skupina.coop/coop-beskydy-spotrebni-druzstvo',\n",
       " 'https://www.skupina.coop/tempo-obchodni-druzstvo',\n",
       " 'https://www.skupina.coop/budoucnost-spotrebni-druzstvo-v-ostrave',\n",
       " 'https://www.skupina.coop/jednota-spotrebni-druzstvo-zabreh',\n",
       " 'https://www.skupina.coop/jednota-spotrebni-druzstvo-ceske-budejovice',\n",
       " 'https://www.skupina.coop/jednota-spotrebni-druzstvo-v-jindrichove-hradci',\n",
       " 'https://www.skupina.coop/jednota-druzstvo-spotrebitelu-v-kaplici',\n",
       " 'https://www.skupina.coop/jednota-spotrebni-druzstvo-v-milevsku-okres-pisek',\n",
       " 'https://www.skupina.coop/jednota-obchodni-druzstvo-tabor',\n",
       " 'https://www.skupina.coop/jednota-spotrebni-druzstvo-ve-vimperku',\n",
       " 'https://www.skupina.coop/jednota-spotrebni-druzstvo-ve-volyni']"
      ]
     },
     "execution_count": 3,
     "metadata": {},
     "output_type": "execute_result"
    }
   ],
   "source": [
    "def getAllLinks(link):\n",
    "    soup = getSoup(link)\n",
    "    h2s = soup.findAll('h2', {'class':'cooperative'})\n",
    "    return ['https://www.skupina.coop' + h2.find('a')['href'] for h2 in h2s]\n",
    "\n",
    "links = getAllLinks('https://www.skupina.coop/cooperative/list/')\n",
    "links"
   ]
  },
  {
   "cell_type": "code",
   "execution_count": 4,
   "metadata": {},
   "outputs": [
    {
     "data": {
      "text/plain": [
       "2502"
      ]
     },
     "execution_count": 4,
     "metadata": {},
     "output_type": "execute_result"
    }
   ],
   "source": [
    "def getAllSublinks(link):\n",
    "    list = []\n",
    "    links = getAllLinks(link)\n",
    "    for link in links:\n",
    "        sleep(0.1)\n",
    "        soup = getSoup(link)\n",
    "        aas = soup.findAll('a', text = re.compile(\"detail\"))      \n",
    "        list.extend(['https://www.skupina.coop' + a['href'] for a in aas])\n",
    "    return list\n",
    "\n",
    "sublinks = getAllSublinks('https://www.skupina.coop/cooperative/list/')\n",
    "len(sublinks)"
   ]
  },
  {
   "cell_type": "code",
   "execution_count": 5,
   "metadata": {},
   "outputs": [
    {
     "data": {
      "text/plain": [
       "'COOP Vlašimská 7, Louňovice pod Blaníkem'"
      ]
     },
     "execution_count": 5,
     "metadata": {},
     "output_type": "execute_result"
    }
   ],
   "source": [
    "def parse_name(soup):\n",
    "    return \"COOP \" + soup.find('h1').find(\"span\").text\n",
    "\n",
    "parse_name(getSoup(\"https://www.skupina.coop/coop-vlasimska-7-lounovice-pod-blanikem-254\"))"
   ]
  },
  {
   "cell_type": "code",
   "execution_count": 6,
   "metadata": {},
   "outputs": [
    {
     "data": {
      "text/plain": [
       "'Vlašimská 7, 257 06 Louňovice pod Blaníkem, Benešov'"
      ]
     },
     "execution_count": 6,
     "metadata": {},
     "output_type": "execute_result"
    }
   ],
   "source": [
    "def parse_address(soup):\n",
    "    address = soup.find('h2', text = re.compile(\"ADRESA\")).next_sibling.next_sibling.get_text(separator = \", \").replace(\"\\n\",\"\").replace(\"\\t\",\"\")\n",
    "    return address[:(len(address)-2)]\n",
    "    \n",
    "parse_address(getSoup(\"https://www.skupina.coop/coop-vlasimska-7-lounovice-pod-blanikem-254\"))"
   ]
  },
  {
   "cell_type": "code",
   "execution_count": 7,
   "metadata": {},
   "outputs": [
    {
     "data": {
      "text/plain": [
       "'JEDNOTA Benešov, družstvo'"
      ]
     },
     "execution_count": 7,
     "metadata": {},
     "output_type": "execute_result"
    }
   ],
   "source": [
    "def parse_druzstvo(soup):\n",
    "    return soup.find('h2', text = re.compile(\"Družstvo\")).next_sibling.next_sibling.text.strip()\n",
    "    \n",
    "parse_druzstvo(getSoup(\"https://www.skupina.coop/coop-vlasimska-7-lounovice-pod-blanikem-254\"))"
   ]
  },
  {
   "cell_type": "code",
   "execution_count": 8,
   "metadata": {},
   "outputs": [
    {
     "data": {
      "text/plain": [
       "'https://www.skupina.coop/jednota-benesov-druzstvo'"
      ]
     },
     "execution_count": 8,
     "metadata": {},
     "output_type": "execute_result"
    }
   ],
   "source": [
    "def parse_druzstvo_link(soup):\n",
    "    return 'https://www.skupina.coop' + soup.find('h2', text = re.compile(\"Družstvo\")).next_sibling.next_sibling.find(\"a\")[\"href\"]\n",
    "    \n",
    "parse_druzstvo_link(getSoup(\"https://www.skupina.coop/coop-vlasimska-7-lounovice-pod-blanikem-254\"))"
   ]
  },
  {
   "cell_type": "code",
   "execution_count": 9,
   "metadata": {},
   "outputs": [
    {
     "data": {
      "text/plain": [
       "'317 852 650'"
      ]
     },
     "execution_count": 9,
     "metadata": {},
     "output_type": "execute_result"
    }
   ],
   "source": [
    "def parse_phone(soup):\n",
    "    try:\n",
    "        return soup.find('div',{'class':'kontakty'}).find('li',{'class':'telefon'}).text.strip()\n",
    "    except:\n",
    "        return \"-\"\n",
    "\n",
    "parse_phone(getSoup(\"https://www.skupina.coop/coop-vlasimska-7-lounovice-pod-blanikem-254\"))"
   ]
  },
  {
   "cell_type": "code",
   "execution_count": 10,
   "metadata": {},
   "outputs": [
    {
     "data": {
      "text/plain": [
       "'www.jednotaostroh.cz'"
      ]
     },
     "execution_count": 10,
     "metadata": {},
     "output_type": "execute_result"
    }
   ],
   "source": [
    "def parse_link(soup):\n",
    "    try:\n",
    "        return soup.find('div',{'class':'kontakty'}).find('li',{'class':'link'}).text.strip()\n",
    "    except:\n",
    "        return \"-\"\n",
    "\n",
    "\n",
    "#parse_link(getSoup(\"https://www.skupina.coop/coop-vlasimska-7-lounovice-pod-blanikem-254\"))\n",
    "parse_link(getSoup(\"https://www.skupina.coop/coop-sobechleby-129-sobechleby-617\"))"
   ]
  },
  {
   "cell_type": "code",
   "execution_count": 11,
   "metadata": {},
   "outputs": [
    {
     "data": {
      "text/plain": [
       "'-'"
      ]
     },
     "execution_count": 11,
     "metadata": {},
     "output_type": "execute_result"
    }
   ],
   "source": [
    "def parse_mail(soup):\n",
    "    try:\n",
    "        return soup.find('div',{'class':'kontakty'}).find('li',{'class':'mail'}).text.strip()\n",
    "    except:\n",
    "        return \"-\"\n",
    "\n",
    "parse_mail(getSoup(parse_druzstvo_link(getSoup(\"https://www.skupina.coop/coop-vlasimska-7-lounovice-pod-blanikem-254\"))))"
   ]
  },
  {
   "cell_type": "code",
   "execution_count": 27,
   "metadata": {},
   "outputs": [],
   "source": [
    "def get_GPS(soup):\n",
    "    '''\n",
    "    Only 10 000 requests are free with this API code. Use wisely.\n",
    "    '''\n",
    "    key = \"U4Bdq1mMc6cN6d6RAGSJpVA0GdKGVIHk\"\n",
    "    adr = urllib.parse.quote_plus(parse_address(soup))\n",
    "    r = requests.get(\"https://www.mapquestapi.com/geocoding/v1/address?key={}&inFormat=kvp&outFormat=json&location={}&thumbMaps=false\".format(key,adr))\n",
    "    d = r.json()\n",
    "    return [d[\"results\"][0][\"locations\"][0][\"latLng\"][\"lat\"],d[\"results\"][0][\"locations\"][0][\"latLng\"][\"lng\"]]"
   ]
  },
  {
   "cell_type": "code",
   "execution_count": 13,
   "metadata": {},
   "outputs": [],
   "source": [
    "def parse_coop_shops(link,pause=.5):\n",
    "\n",
    "    sleep(pause)\n",
    "\n",
    "    soup = getSoup(link)\n",
    "    soup_dr = getSoup(parse_druzstvo_link(getSoup(link)))\n",
    "    gps = get_GPS(soup)\n",
    "\n",
    "    return pd.Series({\n",
    "        'name':parse_name(soup),\n",
    "        'address':parse_address(soup),\n",
    "        'phone':parse_phone(soup),\n",
    "        'mail':parse_mail(soup),\n",
    "        'webpage':parse_link(soup),\n",
    "        'druzstvo':parse_druzstvo(soup),\n",
    "       # 'address_dr':parse_address(soup_dr),\n",
    "        'phone_dr':parse_phone(soup_dr),\n",
    "        'mail_dr':parse_mail(soup_dr),\n",
    "        'webpage_dr':parse_link(soup_dr),\n",
    "        'lat':gps[0],\n",
    "        'lng':gps[1]\n",
    "    })\n",
    "\n",
    "#parse_coop_shops(\"https://www.skupina.coop/coop-vlasimska-7-lounovice-pod-blanikem-254\")"
   ]
  },
  {
   "cell_type": "code",
   "execution_count": 24,
   "metadata": {},
   "outputs": [
    {
     "data": {
      "text/html": [
       "<div>\n",
       "<style scoped>\n",
       "    .dataframe tbody tr th:only-of-type {\n",
       "        vertical-align: middle;\n",
       "    }\n",
       "\n",
       "    .dataframe tbody tr th {\n",
       "        vertical-align: top;\n",
       "    }\n",
       "\n",
       "    .dataframe thead th {\n",
       "        text-align: right;\n",
       "    }\n",
       "</style>\n",
       "<table border=\"1\" class=\"dataframe\">\n",
       "  <thead>\n",
       "    <tr style=\"text-align: right;\">\n",
       "      <th></th>\n",
       "      <th>name</th>\n",
       "      <th>address</th>\n",
       "      <th>phone</th>\n",
       "      <th>mail</th>\n",
       "      <th>webpage</th>\n",
       "      <th>druzstvo</th>\n",
       "      <th>phone_dr</th>\n",
       "      <th>mail_dr</th>\n",
       "      <th>webpage_dr</th>\n",
       "      <th>lat</th>\n",
       "      <th>lng</th>\n",
       "    </tr>\n",
       "  </thead>\n",
       "  <tbody>\n",
       "    <tr>\n",
       "      <th>0</th>\n",
       "      <td>COOP Vlašimská 7, Louňovice pod Blaníkem</td>\n",
       "      <td>Vlašimská 7, 257 06 Louňovice pod Blaníkem, Be...</td>\n",
       "      <td>317 852 650</td>\n",
       "      <td>-</td>\n",
       "      <td>-</td>\n",
       "      <td>JEDNOTA Benešov, družstvo</td>\n",
       "      <td>317 719 111</td>\n",
       "      <td>-</td>\n",
       "      <td>-</td>\n",
       "      <td>49.638473</td>\n",
       "      <td>14.847524</td>\n",
       "    </tr>\n",
       "    <tr>\n",
       "      <th>1</th>\n",
       "      <td>COOP Husova 471, Votice</td>\n",
       "      <td>Husova 471, 259 01 Votice, Benešov</td>\n",
       "      <td>317 812 530</td>\n",
       "      <td>-</td>\n",
       "      <td>-</td>\n",
       "      <td>JEDNOTA Benešov, družstvo</td>\n",
       "      <td>317 719 111</td>\n",
       "      <td>-</td>\n",
       "      <td>-</td>\n",
       "      <td>49.638246</td>\n",
       "      <td>14.636691</td>\n",
       "    </tr>\n",
       "  </tbody>\n",
       "</table>\n",
       "</div>"
      ],
      "text/plain": [
       "                                       name  \\\n",
       "0  COOP Vlašimská 7, Louňovice pod Blaníkem   \n",
       "1                   COOP Husova 471, Votice   \n",
       "\n",
       "                                             address        phone mail  \\\n",
       "0  Vlašimská 7, 257 06 Louňovice pod Blaníkem, Be...  317 852 650    -   \n",
       "1                 Husova 471, 259 01 Votice, Benešov  317 812 530    -   \n",
       "\n",
       "  webpage                   druzstvo     phone_dr mail_dr webpage_dr  \\\n",
       "0       -  JEDNOTA Benešov, družstvo  317 719 111       -          -   \n",
       "1       -  JEDNOTA Benešov, družstvo  317 719 111       -          -   \n",
       "\n",
       "         lat        lng  \n",
       "0  49.638473  14.847524  \n",
       "1  49.638246  14.636691  "
      ]
     },
     "execution_count": 24,
     "metadata": {},
     "output_type": "execute_result"
    }
   ],
   "source": [
    "def get_all_shops(link):\n",
    "    '''\n",
    "    Because of API requests limitation, do not use for all sublinks.\n",
    "    '''\n",
    "    links = getAllSublinks(link)[:2]\n",
    "\n",
    "    return pd.DataFrame([parse_coop_shops(link) for link in links])\n",
    "\n",
    "shops = get_all_shops('https://www.skupina.coop/cooperative/list/')\n",
    "shops"
   ]
  },
  {
   "cell_type": "code",
   "execution_count": 25,
   "metadata": {},
   "outputs": [],
   "source": [
    "def plotMap (df):\n",
    "    Mlat = (df[\"lat\"].max()-df[\"lat\"].min())/2+df[\"lat\"].min()\n",
    "    Mlng = (df[\"lng\"].max()-df[\"lng\"].min())/2+df[\"lng\"].min()\n",
    "    m = folium.Map(location = [Mlat,Mlng])\n",
    "    for k in df.index:\n",
    "        html = '''<meta charset=\"UTF-8\">\n",
    "                <b>{}</b><br>\n",
    "                Phone: {}<br>\n",
    "                Mail: {}'''.format(df[\"name\"][k],df[\"phone\"][k],df[\"mail\"][k])\n",
    "        iframe = folium.IFrame(html,width=250,height=88)\n",
    "        folium.Marker(\n",
    "        [df[\"lat\"][k], df[\"lng\"][k]],\n",
    "        popup = folium.Popup(iframe,max_width=250),\n",
    "        tooltip = \"Click!\",\n",
    "        ).add_to(m)   \n",
    "    return m"
   ]
  },
  {
   "cell_type": "code",
   "execution_count": 26,
   "metadata": {},
   "outputs": [
    {
     "data": {
      "text/html": [
       "<div style=\"width:100%;\"><div style=\"position:relative;width:100%;height:0;padding-bottom:60%;\"><span style=\"color:#565656\">Make this Notebook Trusted to load map: File -> Trust Notebook</span><iframe src=\"about:blank\" style=\"position:absolute;width:100%;height:100%;left:0;top:0;border:none !important;\" data-html=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 onload=\"this.contentDocument.open();this.contentDocument.write(atob(this.getAttribute('data-html')));this.contentDocument.close();\" allowfullscreen webkitallowfullscreen mozallowfullscreen></iframe></div></div>"
      ],
      "text/plain": [
       "<folium.folium.Map at 0x136b58cb988>"
      ]
     },
     "execution_count": 26,
     "metadata": {},
     "output_type": "execute_result"
    }
   ],
   "source": [
    "plotMap(shops)"
   ]
  },
  {
   "cell_type": "code",
   "execution_count": 37,
   "metadata": {},
   "outputs": [
    {
     "data": {
      "text/plain": [
       "22.1658695"
      ]
     },
     "execution_count": 37,
     "metadata": {},
     "output_type": "execute_result"
    }
   ],
   "source": [
    "(shops[\"lng\"].max()-shops[\"lng\"].min()/2)+shops[\"lng\"].min()\n"
   ]
  },
  {
   "cell_type": "code",
   "execution_count": 61,
   "metadata": {},
   "outputs": [
    {
     "data": {
      "text/plain": [
       "49.638473"
      ]
     },
     "execution_count": 61,
     "metadata": {},
     "output_type": "execute_result"
    }
   ],
   "source": [
    "shops[\"lat\"].max()"
   ]
  },
  {
   "cell_type": "code",
   "execution_count": 79,
   "metadata": {},
   "outputs": [
    {
     "name": "stdout",
     "output_type": "stream",
     "text": [
      "cp1250\n"
     ]
    }
   ],
   "source": [
    "print(sys.stdin.encoding)"
   ]
  },
  {
   "cell_type": "code",
   "execution_count": 23,
   "metadata": {},
   "outputs": [
    {
     "data": {
      "text/html": [
       "<div>\n",
       "<style scoped>\n",
       "    .dataframe tbody tr th:only-of-type {\n",
       "        vertical-align: middle;\n",
       "    }\n",
       "\n",
       "    .dataframe tbody tr th {\n",
       "        vertical-align: top;\n",
       "    }\n",
       "\n",
       "    .dataframe thead th {\n",
       "        text-align: right;\n",
       "    }\n",
       "</style>\n",
       "<table border=\"1\" class=\"dataframe\">\n",
       "  <thead>\n",
       "    <tr style=\"text-align: right;\">\n",
       "      <th></th>\n",
       "      <th>name</th>\n",
       "      <th>address</th>\n",
       "      <th>phone</th>\n",
       "      <th>mail</th>\n",
       "      <th>webpage</th>\n",
       "      <th>druzstvo</th>\n",
       "      <th>phone_dr</th>\n",
       "      <th>mail_dr</th>\n",
       "      <th>webpage_dr</th>\n",
       "      <th>lat</th>\n",
       "      <th>lng</th>\n",
       "    </tr>\n",
       "  </thead>\n",
       "  <tbody>\n",
       "    <tr>\n",
       "      <th>0</th>\n",
       "      <td>COOP Vlašimská 7, Louňovice pod Blaníkem</td>\n",
       "      <td>Vlašimská 7, 257 06 Louňovice pod Blaníkem, Be...</td>\n",
       "      <td>317 852 650</td>\n",
       "      <td>-</td>\n",
       "      <td>-</td>\n",
       "      <td>JEDNOTA Benešov, družstvo</td>\n",
       "      <td>317 719 111</td>\n",
       "      <td>-</td>\n",
       "      <td>-</td>\n",
       "      <td>49.638473</td>\n",
       "      <td>14.847524</td>\n",
       "    </tr>\n",
       "    <tr>\n",
       "      <th>1</th>\n",
       "      <td>COOP Husova 471, Votice</td>\n",
       "      <td>Husova 471, 259 01 Votice, Benešov</td>\n",
       "      <td>317 812 530</td>\n",
       "      <td>-</td>\n",
       "      <td>-</td>\n",
       "      <td>JEDNOTA Benešov, družstvo</td>\n",
       "      <td>317 719 111</td>\n",
       "      <td>-</td>\n",
       "      <td>-</td>\n",
       "      <td>49.638246</td>\n",
       "      <td>14.636691</td>\n",
       "    </tr>\n",
       "  </tbody>\n",
       "</table>\n",
       "</div>"
      ],
      "text/plain": [
       "                                       name  \\\n",
       "0  COOP Vlašimská 7, Louňovice pod Blaníkem   \n",
       "1                   COOP Husova 471, Votice   \n",
       "\n",
       "                                             address        phone mail  \\\n",
       "0  Vlašimská 7, 257 06 Louňovice pod Blaníkem, Be...  317 852 650    -   \n",
       "1                 Husova 471, 259 01 Votice, Benešov  317 812 530    -   \n",
       "\n",
       "  webpage                   druzstvo     phone_dr mail_dr webpage_dr  \\\n",
       "0       -  JEDNOTA Benešov, družstvo  317 719 111       -          -   \n",
       "1       -  JEDNOTA Benešov, družstvo  317 719 111       -          -   \n",
       "\n",
       "         lat        lng  \n",
       "0  49.638473  14.847524  \n",
       "1  49.638246  14.636691  "
      ]
     },
     "execution_count": 23,
     "metadata": {},
     "output_type": "execute_result"
    }
   ],
   "source": []
  },
  {
   "cell_type": "code",
   "execution_count": null,
   "metadata": {},
   "outputs": [],
   "source": []
  }
 ],
 "metadata": {
  "kernelspec": {
   "display_name": "Python 3",
   "language": "python",
   "name": "python3"
  },
  "language_info": {
   "codemirror_mode": {
    "name": "ipython",
    "version": 3
   },
   "file_extension": ".py",
   "mimetype": "text/x-python",
   "name": "python",
   "nbconvert_exporter": "python",
   "pygments_lexer": "ipython3",
   "version": "3.7.6"
  }
 },
 "nbformat": 4,
 "nbformat_minor": 4
}
